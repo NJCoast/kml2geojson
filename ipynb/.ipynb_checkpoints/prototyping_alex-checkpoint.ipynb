{
 "cells": [
  {
   "cell_type": "code",
   "execution_count": 1,
   "metadata": {
    "collapsed": false
   },
   "outputs": [],
   "source": [
    "from collections import defaultdict\n",
    "import json\n",
    "\n",
    "import xmltodict\n",
    "\n",
    "data_dir = '../data/'"
   ]
  },
  {
   "cell_type": "code",
   "execution_count": 9,
   "metadata": {
    "collapsed": false
   },
   "outputs": [
    {
     "data": {
      "text/plain": [
       "{'#blueLineRedPoly': {'color': '0000ff',\n",
       "  'fillColor': '0000ff',\n",
       "  'fillOpacity': 1.0,\n",
       "  'opacity': 1.0},\n",
       " '#downArrowIcon': {'iconUrl': 'http://maps.google.com/mapfiles/kml/pal4/icon28.png'},\n",
       " '#globeIcon': {'iconUrl': 'http://maps.google.com/mapfiles/kml/pal3/icon19.png'},\n",
       " '#noDrivingDirections': {},\n",
       " '#redLineBluePoly': {'color': 'ff0000',\n",
       "  'fillColor': 'ff0000',\n",
       "  'fillOpacity': 1.0,\n",
       "  'opacity': 1.0},\n",
       " '#thickBlackLine': {'color': '000000', 'opacity': 0.53, 'weight': '10'},\n",
       " '#transBluePoly': {'weight': '1.5'},\n",
       " '#transGreenPoly': {'weight': '1.5'},\n",
       " '#transPurpleLineGreenPoly': {'color': 'ff00ff',\n",
       "  'fillColor': 'ff00ff',\n",
       "  'fillOpacity': 0.5,\n",
       "  'opacity': 0.5,\n",
       "  'weight': '4'},\n",
       " '#transRedPoly': {'weight': '1.5'},\n",
       " '#transYellowPoly': {'weight': '1.5'},\n",
       " '#yellowLineGreenPoly': {'color': 'ffff00',\n",
       "  'fillColor': 'ffff00',\n",
       "  'fillOpacity': 0.5,\n",
       "  'opacity': 0.5,\n",
       "  'weight': '4'}}"
      ]
     },
     "execution_count": 9,
     "metadata": {},
     "output_type": "execute_result"
    }
   ],
   "source": [
    "def get_rgb_and_opacity(color):\n",
    "    if isinstance(color, str):\n",
    "        r = color[-2:]\n",
    "        g = color[-4:-2]\n",
    "        b = color[-6:-4]\n",
    "        rgb = r + g + b\n",
    "        opacity = color[0:2]        \n",
    "    else:\n",
    "        rgb = '000000'\n",
    "        opacity = 'ff'\n",
    "        \n",
    "    # Convert opacity to int\n",
    "    opacity = round(int(opacity, 16)/256, 2)\n",
    "    \n",
    "    return rgb, opacity\n",
    "\n",
    "def build_leaflet_style(kml_str):\n",
    "    \"\"\"\n",
    "    Given a KML string, grab its kml > Document > Style node,\n",
    "    convert it to a dictionary of the form\n",
    "    \n",
    "        #style ID -> Leaflet style dictionary\n",
    "        \n",
    "    and return the result.\n",
    "    \"\"\"\n",
    "    # Convert to JSON dict and grab style list only\n",
    "    x = xmltodict.parse(kml_str)\n",
    "    x = json.loads(json.dumps(x))\n",
    "    style_list = x['kml']['Document']['Style']\n",
    "    \n",
    "    # Convert to dict keyed by @id\n",
    "    d = {}\n",
    "    for item in style_list:\n",
    "        style_id = '#' + item.pop('@id')\n",
    "        # Create style properties\n",
    "        props = {}\n",
    "        if 'LineStyle' in item:\n",
    "            x = item['LineStyle']\n",
    "            if 'color' in x:\n",
    "                rgb, opacity = get_rgb_and_opacity(x['color'])\n",
    "                props['color'] = rgb\n",
    "                props['opacity'] = opacity\n",
    "            if 'width' in x:\n",
    "                props['weight'] = x['width']\n",
    "        if 'PolyStyle' in item:\n",
    "            x = item['LineStyle']\n",
    "            if 'color' in x:\n",
    "                rgb, opacity = get_rgb_and_opacity(x['color'])\n",
    "                props['fillColor'] = rgb\n",
    "                props['fillOpacity'] = opacity\n",
    "        if 'IconStyle' in item:\n",
    "            # Clear other style properties\n",
    "            props = {}\n",
    "            x = item['IconStyle']\n",
    "            props['iconUrl'] = x['Icon']['href']\n",
    "            \n",
    "        d[style_id] = props\n",
    "        \n",
    "    return d\n",
    "\n",
    "with open(data_dir + 'example_01/doc.kml', 'r') as src:\n",
    "    kml_str = src.read()\n",
    "\n",
    "get_style_dict(kml_str)\n"
   ]
  },
  {
   "cell_type": "code",
   "execution_count": null,
   "metadata": {
    "collapsed": true
   },
   "outputs": [],
   "source": []
  },
  {
   "cell_type": "code",
   "execution_count": null,
   "metadata": {
    "collapsed": true
   },
   "outputs": [],
   "source": []
  }
 ],
 "metadata": {
  "kernelspec": {
   "display_name": "Python 3",
   "language": "python",
   "name": "python3"
  },
  "language_info": {
   "codemirror_mode": {
    "name": "ipython",
    "version": 3
   },
   "file_extension": ".py",
   "mimetype": "text/x-python",
   "name": "python",
   "nbconvert_exporter": "python",
   "pygments_lexer": "ipython3",
   "version": "3.4.0"
  }
 },
 "nbformat": 4,
 "nbformat_minor": 0
}
