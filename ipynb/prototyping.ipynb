{
 "cells": [
  {
   "cell_type": "code",
   "execution_count": 1,
   "metadata": {
    "collapsed": true,
    "scrolled": false
   },
   "outputs": [],
   "source": [
    "import json\n",
    "import sys\n",
    "import subprocess\n",
    "from copy import deepcopy\n",
    "import pathlib\n",
    "import xml.dom.minidom as md\n",
    "import re\n",
    "from pathlib import Path\n",
    "\n",
    "DATA_DIR = Path('../tests/data')\n",
    "OUT_DIR = Path('../outputs')\n",
    "\n",
    "sys.path.append('../')\n",
    "import kml2geojson as kg\n",
    "\n",
    "%load_ext autoreload\n",
    "%autoreload 2"
   ]
  },
  {
   "cell_type": "code",
   "execution_count": 9,
   "metadata": {},
   "outputs": [
    {
     "name": "stdout",
     "output_type": "stream",
     "text": [
      "RIDGE2 SVR Warnings\n",
      "RIDGE2 SVR Warnings1\n",
      "RIDGE2 TOR Warnings\n",
      "RIDGE2 FFW Warnings\n",
      "RIDGE2 SMW Warnings\n"
     ]
    }
   ],
   "source": [
    "kml_path = DATA_DIR/'google_sample.kml'\n",
    "with kml_path.open() as src:\n",
    "    root = md.parseString(src.read())\n",
    "    \n",
    "layers = kg.build_layers(root)\n",
    "print('')\n",
    "for layer in layers:\n",
    "    print(layer['name'])\n"
   ]
  },
  {
   "cell_type": "code",
   "execution_count": null,
   "metadata": {
    "collapsed": true
   },
   "outputs": [],
   "source": [
    "k_path = DATA_DIR/'two_layers'/'two_layers.kml'\n",
    "out_path = DATA_DIR/'tmp'\n",
    "kg.convert(k_path, out_path, separate_folders=True, style_type='svg')\n",
    "for p in k_path.parent.iterdir():\n",
    "    if p.suffix == '.kml':\n",
    "        continue\n",
    "    gp = out_path/p.name\n",
    "    with gp.open() as src:\n",
    "        get = json.load(src)\n",
    "    with p.open() as src:\n",
    "        expect = json.load(src)\n",
    "    is_equal = get == expect\n",
    "    print(p.stem, is_equal)\n",
    "    if not is_equal:\n",
    "        print(get)\n",
    "        print(expect)"
   ]
  },
  {
   "cell_type": "code",
   "execution_count": null,
   "metadata": {
    "collapsed": true
   },
   "outputs": [],
   "source": [
    "kml_path = DATA_DIR/'description.kml'\n",
    "with kml_path.open() as src:\n",
    "    root = md.parseString(src.read())\n",
    "    \n",
    "desc = kg.get1(root, 'description')\n",
    "\n",
    "def test(node):\n",
    "    text = kg.val(node)\n",
    "    text = re.sub(r'<META .*>', '', text, flags=re.I)\n",
    "    x = md.parseString(text)\n",
    "    return kg.del_attrs(x)\n",
    "\n",
    "def clean_description(node):\n",
    "    text = kg.val(node)\n",
    "    text = re.sub(r'<META .*>', '', text, flags=re.I)\n",
    "    try:\n",
    "        x = md.parseString(text)\n",
    "        x = kg.del_attrs(x)\n",
    "    except Exception:\n",
    "        x = node\n",
    "    return x\n",
    "\n",
    "desc = clean_description(desc)\n",
    "desc.toxml()\n",
    "# feature = kg.build_feature_collection(root)\n",
    "# feature"
   ]
  },
  {
   "cell_type": "code",
   "execution_count": null,
   "metadata": {
    "collapsed": true
   },
   "outputs": [],
   "source": []
  },
  {
   "cell_type": "code",
   "execution_count": null,
   "metadata": {
    "collapsed": true
   },
   "outputs": [],
   "source": []
  }
 ],
 "metadata": {
  "kernelspec": {
   "display_name": "Python 3",
   "language": "python",
   "name": "python3"
  },
  "language_info": {
   "codemirror_mode": {
    "name": "ipython",
    "version": 3
   },
   "file_extension": ".py",
   "mimetype": "text/x-python",
   "name": "python",
   "nbconvert_exporter": "python",
   "pygments_lexer": "ipython3",
   "version": "3.5.2"
  }
 },
 "nbformat": 4,
 "nbformat_minor": 1
}
