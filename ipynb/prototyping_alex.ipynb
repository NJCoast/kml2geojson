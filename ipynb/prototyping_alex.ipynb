{
 "cells": [
  {
   "cell_type": "code",
   "execution_count": 11,
   "metadata": {
    "collapsed": false
   },
   "outputs": [],
   "source": [
    "import json\n",
    "import sys\n",
    "\n",
    "import xmltodict\n",
    "\n",
    "data_dir = '../data/'\n",
    "\n",
    "sys.path.append('../kml2geojson')\n",
    "\n",
    "%load_ext autoreload\n",
    "%autoreload 2"
   ]
  },
  {
   "cell_type": "code",
   "execution_count": 12,
   "metadata": {
    "collapsed": false
   },
   "outputs": [
    {
     "data": {
      "text/plain": [
       "{'#blueLineRedPoly': {'color': '0000ff',\n",
       "  'fillColor': '0000ff',\n",
       "  'fillOpacity': 1.0,\n",
       "  'opacity': 1.0},\n",
       " '#downArrowIcon': {'iconUrl': 'http://maps.google.com/mapfiles/kml/pal4/icon28.png'},\n",
       " '#globeIcon': {'iconUrl': 'http://maps.google.com/mapfiles/kml/pal3/icon19.png'},\n",
       " '#noDrivingDirections': {},\n",
       " '#redLineBluePoly': {'color': 'ff0000',\n",
       "  'fillColor': 'ff0000',\n",
       "  'fillOpacity': 1.0,\n",
       "  'opacity': 1.0},\n",
       " '#thickBlackLine': {'color': '000000', 'opacity': 0.53, 'weight': '10'},\n",
       " '#transBluePoly': {'weight': '1.5'},\n",
       " '#transGreenPoly': {'weight': '1.5'},\n",
       " '#transPurpleLineGreenPoly': {'color': 'ff00ff',\n",
       "  'fillColor': 'ff00ff',\n",
       "  'fillOpacity': 0.5,\n",
       "  'opacity': 0.5,\n",
       "  'weight': '4'},\n",
       " '#transRedPoly': {'weight': '1.5'},\n",
       " '#transYellowPoly': {'weight': '1.5'},\n",
       " '#yellowLineGreenPoly': {'color': 'ffff00',\n",
       "  'fillColor': 'ffff00',\n",
       "  'fillOpacity': 0.5,\n",
       "  'opacity': 0.5,\n",
       "  'weight': '4'}}"
      ]
     },
     "execution_count": 12,
     "metadata": {},
     "output_type": "execute_result"
    }
   ],
   "source": [
    "with open(data_dir + 'example_01/doc.kml', 'r') as src:\n",
    "    kml_str = src.read()\n",
    "\n",
    "get_style_dict(kml_str)\n"
   ]
  },
  {
   "cell_type": "code",
   "execution_count": null,
   "metadata": {
    "collapsed": true
   },
   "outputs": [],
   "source": []
  },
  {
   "cell_type": "code",
   "execution_count": null,
   "metadata": {
    "collapsed": true
   },
   "outputs": [],
   "source": []
  }
 ],
 "metadata": {
  "kernelspec": {
   "display_name": "Python 3",
   "language": "python",
   "name": "python3"
  },
  "language_info": {
   "codemirror_mode": {
    "name": "ipython",
    "version": 3
   },
   "file_extension": ".py",
   "mimetype": "text/x-python",
   "name": "python",
   "nbconvert_exporter": "python",
   "pygments_lexer": "ipython3",
   "version": "3.4.0"
  }
 },
 "nbformat": 4,
 "nbformat_minor": 0
}
