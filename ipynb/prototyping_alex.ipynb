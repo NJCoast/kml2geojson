{
 "cells": [
  {
   "cell_type": "code",
   "execution_count": 12,
   "metadata": {
    "collapsed": false,
    "scrolled": false
   },
   "outputs": [
    {
     "name": "stdout",
     "output_type": "stream",
     "text": [
      "The autoreload extension is already loaded. To reload it, use:\n",
      "  %reload_ext autoreload\n"
     ]
    }
   ],
   "source": [
    "import json\n",
    "import sys\n",
    "import subprocess\n",
    "from copy import deepcopy\n",
    "import pathlib\n",
    "import xml.dom.minidom as md\n",
    "\n",
    "data_dir = '../tests/data/'\n",
    "out_dir = '../outputs/'\n",
    "\n",
    "sys.path.append('../')\n",
    "from kml2geojson import kml2geojson as kg\n",
    "\n",
    "%load_ext autoreload\n",
    "%autoreload 2"
   ]
  },
  {
   "cell_type": "code",
   "execution_count": 14,
   "metadata": {
    "collapsed": false
   },
   "outputs": [
    {
     "data": {
      "text/plain": [
       "{'features': [{'geometry': {'coordinates': [[2.3101624, 48.7301875],\n",
       "     [2.3098714, 48.7300247],\n",
       "     [2.3098051, 48.7299542],\n",
       "     [2.3098493, 48.7298813],\n",
       "     [2.309934, 48.7298108],\n",
       "     [2.3100372, 48.729806],\n",
       "     [2.3101293, 48.7298424],\n",
       "     [2.3101772, 48.7298862],\n",
       "     [2.3101661, 48.7299542],\n",
       "     [2.3101587, 48.7300538],\n",
       "     [2.3101624, 48.7301875]],\n",
       "    'type': 'LineString'},\n",
       "   'properties': {'fill': '#ff1100',\n",
       "    'fill-opacity': 1.0,\n",
       "    'name': 'With all inline styles',\n",
       "    'stroke': '#ff0000',\n",
       "    'stroke-opacity': 1.0,\n",
       "    'stroke-width': 3.0},\n",
       "   'type': 'Feature'},\n",
       "  {'geometry': {'coordinates': [[2.3101624, 48.7301875],\n",
       "     [2.3098714, 48.7300247],\n",
       "     [2.3098051, 48.7299542],\n",
       "     [2.3098493, 48.7298813],\n",
       "     [2.309934, 48.7298108],\n",
       "     [2.3100372, 48.729806],\n",
       "     [2.3101293, 48.7298424],\n",
       "     [2.3101772, 48.7298862],\n",
       "     [2.3101661, 48.7299542],\n",
       "     [2.3101587, 48.7300538],\n",
       "     [2.3101624, 48.7301875]],\n",
       "    'type': 'LineString'},\n",
       "   'properties': {'fill-opacity': 1.0,\n",
       "    'name': 'With some inline styles',\n",
       "    'stroke': '#ff0000',\n",
       "    'stroke-opacity': 1.0},\n",
       "   'type': 'Feature'},\n",
       "  {'geometry': {'coordinates': [[2.3131898, 48.7315075],\n",
       "     [2.3123173, 48.7309455],\n",
       "     [2.312019, 48.7308143],\n",
       "     [2.3114185, 48.730671],\n",
       "     [2.310796, 48.7305252],\n",
       "     [2.3104424, 48.7303916],\n",
       "     [2.3101624, 48.7301875]],\n",
       "    'type': 'LineString'},\n",
       "   'properties': {'name': 'Without inline style'},\n",
       "   'type': 'Feature'}],\n",
       " 'type': 'FeatureCollection'}"
      ]
     },
     "execution_count": 14,
     "metadata": {},
     "output_type": "execute_result"
    }
   ],
   "source": [
    "kml_path = data_dir + 'inline_style.kml'\n",
    "with open(kml_path) as src:\n",
    "    root = md.parseString(src.read())\n",
    "    \n",
    "feature = kg.build_feature_collection(root)\n",
    "feature"
   ]
  },
  {
   "cell_type": "code",
   "execution_count": null,
   "metadata": {
    "collapsed": true
   },
   "outputs": [],
   "source": []
  },
  {
   "cell_type": "code",
   "execution_count": null,
   "metadata": {
    "collapsed": true
   },
   "outputs": [],
   "source": []
  }
 ],
 "metadata": {
  "kernelspec": {
   "display_name": "Python 3",
   "language": "python",
   "name": "python3"
  },
  "language_info": {
   "codemirror_mode": {
    "name": "ipython",
    "version": 3
   },
   "file_extension": ".py",
   "mimetype": "text/x-python",
   "name": "python",
   "nbconvert_exporter": "python",
   "pygments_lexer": "ipython3",
   "version": "3.4.3"
  }
 },
 "nbformat": 4,
 "nbformat_minor": 0
}
