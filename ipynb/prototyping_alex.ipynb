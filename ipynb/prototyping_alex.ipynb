{
 "cells": [
  {
   "cell_type": "code",
   "execution_count": 1,
   "metadata": {
    "collapsed": false
   },
   "outputs": [],
   "source": [
    "import json\n",
    "import sys\n",
    "import subprocess\n",
    "from copy import deepcopy\n",
    "\n",
    "import xmltodict\n",
    "\n",
    "data_dir = '../data/'\n",
    "out_dir = '../outputs/'\n",
    "\n",
    "sys.path.append('../')\n",
    "import kml2geojson as kg\n",
    "\n",
    "%load_ext autoreload\n",
    "%autoreload 2"
   ]
  },
  {
   "cell_type": "code",
   "execution_count": 2,
   "metadata": {
    "collapsed": true
   },
   "outputs": [],
   "source": [
    "with open(data_dir + 'example_02/doc.kml', 'r') as src:\n",
    "    kml_str = src.read()\n",
    "\n",
    "x = xmltodict.parse(kml_str)"
   ]
  },
  {
   "cell_type": "code",
   "execution_count": 8,
   "metadata": {
    "collapsed": false,
    "scrolled": true
   },
   "outputs": [
    {
     "data": {
      "text/plain": [
       "['Transit_Points_2041',\n",
       " 'Rapid Network',\n",
       " 'Rapid Network Background',\n",
       " 'Rail',\n",
       " 'Rapid Network Background',\n",
       " 'Rail Background',\n",
       " 'New Network 2026__']"
      ]
     },
     "execution_count": 8,
     "metadata": {},
     "output_type": "execute_result"
    }
   ],
   "source": [
    "layers = kg.build_geojson_layers(kml_str)\n",
    "[l['name'] for l in layers]"
   ]
  },
  {
   "cell_type": "code",
   "execution_count": 11,
   "metadata": {
    "collapsed": false,
    "scrolled": true
   },
   "outputs": [],
   "source": [
    "f = x['kml']['Document']['Folder'][0]\n",
    "\n",
    "# for folder in x['kml']['Document']['Folder']:\n",
    "#     y = deepcopy(x)\n",
    "#     y['kml']['Document']['Folder'] = [folder]\n",
    "#     kml_str = xmltodict.unparse(y)\n",
    "#     kml_path = '/tmp/tmp.kml'\n",
    "#     with open(kml_path, 'w') as tgt:\n",
    "#         tgt.write(kml_str)\n",
    "    \n",
    "\n",
    "# features = folders[1]['Placemark']\n",
    "# features\n",
    "# ids = [f['@id'] for f in features]\n",
    "# ids"
   ]
  },
  {
   "cell_type": "code",
   "execution_count": 6,
   "metadata": {
    "collapsed": false
   },
   "outputs": [],
   "source": [
    "kml_path = data_dir + 'example_02/doc.kml'\n",
    "geojson_path = out_dir + 'doc_02.geojson'\n",
    "json_path = out_dir + 'doc_02.json'\n",
    "\n",
    "kg.kml2geojson(kml_path, geojson_path, json_path)"
   ]
  },
  {
   "cell_type": "code",
   "execution_count": null,
   "metadata": {
    "collapsed": true
   },
   "outputs": [],
   "source": []
  }
 ],
 "metadata": {
  "kernelspec": {
   "display_name": "Python 3",
   "language": "python",
   "name": "python3"
  },
  "language_info": {
   "codemirror_mode": {
    "name": "ipython",
    "version": 3
   },
   "file_extension": ".py",
   "mimetype": "text/x-python",
   "name": "python",
   "nbconvert_exporter": "python",
   "pygments_lexer": "ipython3",
   "version": "3.4.3"
  }
 },
 "nbformat": 4,
 "nbformat_minor": 0
}
