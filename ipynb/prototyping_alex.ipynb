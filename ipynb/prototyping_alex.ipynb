{
 "cells": [
  {
   "cell_type": "code",
   "execution_count": 1,
   "metadata": {
    "collapsed": false
   },
   "outputs": [],
   "source": [
    "import json\n",
    "import sys\n",
    "import subprocess\n",
    "from copy import deepcopy\n",
    "import pathlib\n",
    "import xml.dom.minidom as md\n",
    "\n",
    "data_dir = '../tests/data/'\n",
    "out_dir = '../outputs/'\n",
    "\n",
    "sys.path.append('../')\n",
    "import kml2geojson as kg\n",
    "\n",
    "%load_ext autoreload\n",
    "%autoreload 2"
   ]
  },
  {
   "cell_type": "code",
   "execution_count": 2,
   "metadata": {
    "collapsed": false
   },
   "outputs": [],
   "source": [
    "kml_path = data_dir + 'example_01/doc.kml'\n",
    "output_dir = out_dir + 'example_01'\n",
    "kg.kml2geojson(kml_path, output_dir, style_type='leaflet', \n",
    "  separate_layers=False)"
   ]
  },
  {
   "cell_type": "code",
   "execution_count": 3,
   "metadata": {
    "collapsed": false,
    "scrolled": true
   },
   "outputs": [],
   "source": [
    "kml_path = data_dir + 'example_01/doc.kml'\n",
    "with open(kml_path) as src:\n",
    "    root = md.parseString(src.read())"
   ]
  },
  {
   "cell_type": "code",
   "execution_count": 4,
   "metadata": {
    "collapsed": false
   },
   "outputs": [
    {
     "data": {
      "text/plain": [
       "{'#blueLineRedPoly': {'color': '#0000ff',\n",
       "  'fillColor': '#ff0000',\n",
       "  'fillOpacity': 1.0,\n",
       "  'opacity': 1.0},\n",
       " '#downArrowIcon': {'iconUrl': 'http://maps.google.com/mapfiles/kml/pal4/icon28.png'},\n",
       " '#globeIcon': {'iconUrl': 'http://maps.google.com/mapfiles/kml/pal3/icon19.png'},\n",
       " '#highlightPlacemark': {'iconUrl': 'http://maps.google.com/mapfiles/kml/paddle/red-stars.png'},\n",
       " '#noDrivingDirections': {},\n",
       " '#normalPlacemark': {'iconUrl': 'http://maps.google.com/mapfiles/kml/paddle/wht-blank.png'},\n",
       " '#redLineBluePoly': {'color': '#ff0000',\n",
       "  'fillColor': '#0000ff',\n",
       "  'fillOpacity': 1.0,\n",
       "  'opacity': 1.0},\n",
       " '#thickBlackLine': {'color': '#000000', 'opacity': 0.53, 'weight': 10.0},\n",
       " '#transBluePoly': {'color': '#000000',\n",
       "  'fillColor': '#0000ff',\n",
       "  'fillOpacity': 0.49,\n",
       "  'opacity': 1,\n",
       "  'weight': 1.5},\n",
       " '#transGreenPoly': {'color': '#000000',\n",
       "  'fillColor': '#00ff00',\n",
       "  'fillOpacity': 0.49,\n",
       "  'opacity': 1,\n",
       "  'weight': 1.5},\n",
       " '#transPurpleLineGreenPoly': {'color': '#ff00ff',\n",
       "  'fillColor': '#00ff00',\n",
       "  'fillOpacity': 0.5,\n",
       "  'opacity': 0.5,\n",
       "  'weight': 4.0},\n",
       " '#transRedPoly': {'color': '#000000',\n",
       "  'fillColor': '#ff0000',\n",
       "  'fillOpacity': 0.49,\n",
       "  'opacity': 1,\n",
       "  'weight': 1.5},\n",
       " '#transYellowPoly': {'color': '#000000',\n",
       "  'fillColor': '#ffff00',\n",
       "  'fillOpacity': 0.49,\n",
       "  'opacity': 1,\n",
       "  'weight': 1.5},\n",
       " '#yellowLineGreenPoly': {'color': '#ffff00',\n",
       "  'fillColor': '#00ff00',\n",
       "  'fillOpacity': 0.5,\n",
       "  'opacity': 0.5,\n",
       "  'weight': 4.0}}"
      ]
     },
     "execution_count": 4,
     "metadata": {},
     "output_type": "execute_result"
    }
   ],
   "source": [
    "style = kg.build_leaflet_style(root)\n",
    "style"
   ]
  },
  {
   "cell_type": "code",
   "execution_count": null,
   "metadata": {
    "collapsed": true
   },
   "outputs": [],
   "source": []
  }
 ],
 "metadata": {
  "kernelspec": {
   "display_name": "Python 3",
   "language": "python",
   "name": "python3"
  },
  "language_info": {
   "codemirror_mode": {
    "name": "ipython",
    "version": 3
   },
   "file_extension": ".py",
   "mimetype": "text/x-python",
   "name": "python",
   "nbconvert_exporter": "python",
   "pygments_lexer": "ipython3",
   "version": "3.4.2"
  }
 },
 "nbformat": 4,
 "nbformat_minor": 0
}
