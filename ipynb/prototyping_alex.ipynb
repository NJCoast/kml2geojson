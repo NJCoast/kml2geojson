{
 "cells": [
  {
   "cell_type": "code",
   "execution_count": 11,
   "metadata": {
    "collapsed": false
   },
   "outputs": [],
   "source": [
    "from collections import defaultdict\n",
    "import json\n",
    "\n",
    "import xmltodict\n",
    "\n",
    "data_dir = '../data/'"
   ]
  },
  {
   "cell_type": "code",
   "execution_count": 31,
   "metadata": {
    "collapsed": false
   },
   "outputs": [
    {
     "data": {
      "text/plain": [
       "{'#blueLineRedPoly': {'LineStyle': {'color': '0000ff', 'opacity': 1.0},\n",
       "  'PolyStyle': {'fillColor': 'ff0000', 'fillOpacity': 1.0}},\n",
       " '#downArrowIcon': {'IconStyle': {'Icon': {'href': 'http://maps.google.com/mapfiles/kml/pal4/icon28.png'}}},\n",
       " '#globeIcon': {'IconStyle': {'Icon': {'href': 'http://maps.google.com/mapfiles/kml/pal3/icon19.png'}},\n",
       "  'LineStyle': {},\n",
       "  'weight': '2'},\n",
       " '#noDrivingDirections': {'BalloonStyle': {'text': '<b>$[name]</b>\\n          <br /><br />\\n          $[description]'}},\n",
       " '#redLineBluePoly': {'LineStyle': {'color': 'ff0000', 'opacity': 1.0},\n",
       "  'PolyStyle': {'fillColor': '0000ff', 'fillOpacity': 1.0}},\n",
       " '#thickBlackLine': {'LineStyle': {'color': '000000', 'opacity': 0.5},\n",
       "  'weight': '10'},\n",
       " '#transBluePoly': {'LineStyle': {},\n",
       "  'PolyStyle': {'fillColor': '0000ff', 'fillOpacity': 0.5},\n",
       "  'weight': '1.5'},\n",
       " '#transGreenPoly': {'LineStyle': {},\n",
       "  'PolyStyle': {'fillColor': '00ff00', 'fillOpacity': 0.5},\n",
       "  'weight': '1.5'},\n",
       " '#transPurpleLineGreenPoly': {'LineStyle': {'color': 'ff00ff',\n",
       "   'opacity': 0.5},\n",
       "  'PolyStyle': {'fillColor': '00ff00', 'fillOpacity': 0.5},\n",
       "  'weight': '4'},\n",
       " '#transRedPoly': {'LineStyle': {},\n",
       "  'PolyStyle': {'fillColor': 'ff0000', 'fillOpacity': 0.5},\n",
       "  'weight': '1.5'},\n",
       " '#transYellowPoly': {'LineStyle': {},\n",
       "  'PolyStyle': {'fillColor': 'ffff00', 'fillOpacity': 0.5},\n",
       "  'weight': '1.5'},\n",
       " '#yellowLineGreenPoly': {'LineStyle': {'color': 'ffff00', 'opacity': 0.5},\n",
       "  'PolyStyle': {'fillColor': '00ff00', 'fillOpacity': 0.5},\n",
       "  'weight': '4'}}"
      ]
     },
     "execution_count": 31,
     "metadata": {},
     "output_type": "execute_result"
    }
   ],
   "source": [
    "def get_rgb_and_opacity(s):\n",
    "    if isinstance(s, str):\n",
    "        r = s[-2:]\n",
    "        g = s[-4:-2]\n",
    "        b = s[-6:-4]\n",
    "        rgb = r + g + b\n",
    "        opacity = s[0:2]        \n",
    "    else:\n",
    "        rgb = '000000'\n",
    "        opacity = 'ff'\n",
    "        \n",
    "    # Convert opacity to int\n",
    "    opacity = round(int(opacity, 16)/255, 1)\n",
    "    \n",
    "    return rgb, opacity\n",
    "\n",
    "def get_style_dict(kml_str):\n",
    "    # Convert to JSON dict and grab style list only\n",
    "    x = xmltodict.parse(kml_str)\n",
    "    x = json.loads(json.dumps(x))\n",
    "    style_list = x['kml']['Document']['Style']\n",
    "    \n",
    "    # Convert to dict keyed by @id\n",
    "    d = {}\n",
    "    for item in style_list:\n",
    "        style_id = '#' + item.pop('@id')\n",
    "        # Convert some values\n",
    "        if 'LineStyle' in item:\n",
    "            key = 'LineStyle'\n",
    "            if 'color' in item[key]:\n",
    "                s = item[key]['color'] \n",
    "                rgb, opacity = get_rgb_and_opacity(s)\n",
    "                item[key]['color'] = rgb\n",
    "                item[key]['opacity'] = opacity\n",
    "            if 'width' in item[key]:\n",
    "                item['weight'] = item[key].pop('width')\n",
    "        if 'PolyStyle' in item:\n",
    "            key = 'PolyStyle'\n",
    "            if 'color' in item[key]:\n",
    "                s = item[key].pop('color') \n",
    "                rgb, opacity = get_rgb_and_opacity(s)\n",
    "                item[key]['fillColor'] = rgb\n",
    "                item[key]['fillOpacity'] = opacity\n",
    "                \n",
    "        d[style_id] = item\n",
    "        \n",
    "    return d\n",
    "\n",
    "with open(data_dir + 'example_01/doc.kml', 'r') as src:\n",
    "    kml_str = src.read()\n",
    "\n",
    "get_style_dict(kml_str)\n"
   ]
  },
  {
   "cell_type": "code",
   "execution_count": null,
   "metadata": {
    "collapsed": true
   },
   "outputs": [],
   "source": []
  },
  {
   "cell_type": "code",
   "execution_count": null,
   "metadata": {
    "collapsed": true
   },
   "outputs": [],
   "source": []
  }
 ],
 "metadata": {
  "kernelspec": {
   "display_name": "Python 3",
   "language": "python",
   "name": "python3"
  },
  "language_info": {
   "codemirror_mode": {
    "name": "ipython",
    "version": 3
   },
   "file_extension": ".py",
   "mimetype": "text/x-python",
   "name": "python",
   "nbconvert_exporter": "python",
   "pygments_lexer": "ipython3",
   "version": "3.4.0"
  }
 },
 "nbformat": 4,
 "nbformat_minor": 0
}
