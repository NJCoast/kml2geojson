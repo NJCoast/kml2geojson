{
 "cells": [
  {
   "cell_type": "code",
   "execution_count": 22,
   "metadata": {
    "collapsed": false
   },
   "outputs": [
    {
     "name": "stdout",
     "output_type": "stream",
     "text": [
      "The autoreload extension is already loaded. To reload it, use:\n",
      "  %reload_ext autoreload\n"
     ]
    }
   ],
   "source": [
    "import json\n",
    "import sys\n",
    "import subprocess\n",
    "from copy import deepcopy\n",
    "import pathlib\n",
    "import xml.dom.minidom as md\n",
    "\n",
    "data_dir = '../tests/data/'\n",
    "out_dir = '../outputs/'\n",
    "\n",
    "sys.path.append('../')\n",
    "import kml2geojson.kml2geojson as kg\n",
    "\n",
    "%load_ext autoreload\n",
    "%autoreload 2"
   ]
  },
  {
   "cell_type": "code",
   "execution_count": 23,
   "metadata": {
    "collapsed": false
   },
   "outputs": [
    {
     "ename": "TypeError",
     "evalue": "__init__() got an unexpected keyword argument 'separate_layers'",
     "output_type": "error",
     "traceback": [
      "\u001b[0;31m---------------------------------------------------------------------------\u001b[0m",
      "\u001b[0;31mTypeError\u001b[0m                                 Traceback (most recent call last)",
      "\u001b[0;32m<ipython-input-23-9f85fe34f892>\u001b[0m in \u001b[0;36m<module>\u001b[0;34m()\u001b[0m\n\u001b[1;32m      2\u001b[0m \u001b[0moutput_dir\u001b[0m \u001b[0;34m=\u001b[0m \u001b[0mout_dir\u001b[0m \u001b[0;34m+\u001b[0m \u001b[0;34m'example_01'\u001b[0m\u001b[0;34m\u001b[0m\u001b[0m\n\u001b[1;32m      3\u001b[0m kg.convert(kml_path, output_dir, style_type='leaflet', \n\u001b[0;32m----> 4\u001b[0;31m   separate_layers=False)\n\u001b[0m",
      "\u001b[0;32m/Users/araichev/.virtualenvs/kml2geojson/lib/python3.4/site-packages/click/core.py\u001b[0m in \u001b[0;36m__call__\u001b[0;34m(self, *args, **kwargs)\u001b[0m\n\u001b[1;32m    698\u001b[0m     \u001b[0;32mdef\u001b[0m \u001b[0m__call__\u001b[0m\u001b[0;34m(\u001b[0m\u001b[0mself\u001b[0m\u001b[0;34m,\u001b[0m \u001b[0;34m*\u001b[0m\u001b[0margs\u001b[0m\u001b[0;34m,\u001b[0m \u001b[0;34m**\u001b[0m\u001b[0mkwargs\u001b[0m\u001b[0;34m)\u001b[0m\u001b[0;34m:\u001b[0m\u001b[0;34m\u001b[0m\u001b[0m\n\u001b[1;32m    699\u001b[0m         \u001b[0;34m\"\"\"Alias for :meth:`main`.\"\"\"\u001b[0m\u001b[0;34m\u001b[0m\u001b[0m\n\u001b[0;32m--> 700\u001b[0;31m         \u001b[0;32mreturn\u001b[0m \u001b[0mself\u001b[0m\u001b[0;34m.\u001b[0m\u001b[0mmain\u001b[0m\u001b[0;34m(\u001b[0m\u001b[0;34m*\u001b[0m\u001b[0margs\u001b[0m\u001b[0;34m,\u001b[0m \u001b[0;34m**\u001b[0m\u001b[0mkwargs\u001b[0m\u001b[0;34m)\u001b[0m\u001b[0;34m\u001b[0m\u001b[0m\n\u001b[0m\u001b[1;32m    701\u001b[0m \u001b[0;34m\u001b[0m\u001b[0m\n\u001b[1;32m    702\u001b[0m \u001b[0;34m\u001b[0m\u001b[0m\n",
      "\u001b[0;32m/Users/araichev/.virtualenvs/kml2geojson/lib/python3.4/site-packages/click/core.py\u001b[0m in \u001b[0;36mmain\u001b[0;34m(self, args, prog_name, complete_var, standalone_mode, **extra)\u001b[0m\n\u001b[1;32m    677\u001b[0m         \u001b[0;32mtry\u001b[0m\u001b[0;34m:\u001b[0m\u001b[0;34m\u001b[0m\u001b[0m\n\u001b[1;32m    678\u001b[0m             \u001b[0;32mtry\u001b[0m\u001b[0;34m:\u001b[0m\u001b[0;34m\u001b[0m\u001b[0m\n\u001b[0;32m--> 679\u001b[0;31m                 \u001b[0;32mwith\u001b[0m \u001b[0mself\u001b[0m\u001b[0;34m.\u001b[0m\u001b[0mmake_context\u001b[0m\u001b[0;34m(\u001b[0m\u001b[0mprog_name\u001b[0m\u001b[0;34m,\u001b[0m \u001b[0margs\u001b[0m\u001b[0;34m,\u001b[0m \u001b[0;34m**\u001b[0m\u001b[0mextra\u001b[0m\u001b[0;34m)\u001b[0m \u001b[0;32mas\u001b[0m \u001b[0mctx\u001b[0m\u001b[0;34m:\u001b[0m\u001b[0;34m\u001b[0m\u001b[0m\n\u001b[0m\u001b[1;32m    680\u001b[0m                     \u001b[0mrv\u001b[0m \u001b[0;34m=\u001b[0m \u001b[0mself\u001b[0m\u001b[0;34m.\u001b[0m\u001b[0minvoke\u001b[0m\u001b[0;34m(\u001b[0m\u001b[0mctx\u001b[0m\u001b[0;34m)\u001b[0m\u001b[0;34m\u001b[0m\u001b[0m\n\u001b[1;32m    681\u001b[0m                     \u001b[0;32mif\u001b[0m \u001b[0;32mnot\u001b[0m \u001b[0mstandalone_mode\u001b[0m\u001b[0;34m:\u001b[0m\u001b[0;34m\u001b[0m\u001b[0m\n",
      "\u001b[0;32m/Users/araichev/.virtualenvs/kml2geojson/lib/python3.4/site-packages/click/core.py\u001b[0m in \u001b[0;36mmake_context\u001b[0;34m(self, info_name, args, parent, **extra)\u001b[0m\n\u001b[1;32m    590\u001b[0m             \u001b[0;32mif\u001b[0m \u001b[0mkey\u001b[0m \u001b[0;32mnot\u001b[0m \u001b[0;32min\u001b[0m \u001b[0mextra\u001b[0m\u001b[0;34m:\u001b[0m\u001b[0;34m\u001b[0m\u001b[0m\n\u001b[1;32m    591\u001b[0m                 \u001b[0mextra\u001b[0m\u001b[0;34m[\u001b[0m\u001b[0mkey\u001b[0m\u001b[0;34m]\u001b[0m \u001b[0;34m=\u001b[0m \u001b[0mvalue\u001b[0m\u001b[0;34m\u001b[0m\u001b[0m\n\u001b[0;32m--> 592\u001b[0;31m         \u001b[0mctx\u001b[0m \u001b[0;34m=\u001b[0m \u001b[0mContext\u001b[0m\u001b[0;34m(\u001b[0m\u001b[0mself\u001b[0m\u001b[0;34m,\u001b[0m \u001b[0minfo_name\u001b[0m\u001b[0;34m=\u001b[0m\u001b[0minfo_name\u001b[0m\u001b[0;34m,\u001b[0m \u001b[0mparent\u001b[0m\u001b[0;34m=\u001b[0m\u001b[0mparent\u001b[0m\u001b[0;34m,\u001b[0m \u001b[0;34m**\u001b[0m\u001b[0mextra\u001b[0m\u001b[0;34m)\u001b[0m\u001b[0;34m\u001b[0m\u001b[0m\n\u001b[0m\u001b[1;32m    593\u001b[0m         \u001b[0;32mwith\u001b[0m \u001b[0mctx\u001b[0m\u001b[0;34m.\u001b[0m\u001b[0mscope\u001b[0m\u001b[0;34m(\u001b[0m\u001b[0mcleanup\u001b[0m\u001b[0;34m=\u001b[0m\u001b[0;32mFalse\u001b[0m\u001b[0;34m)\u001b[0m\u001b[0;34m:\u001b[0m\u001b[0;34m\u001b[0m\u001b[0m\n\u001b[1;32m    594\u001b[0m             \u001b[0mself\u001b[0m\u001b[0;34m.\u001b[0m\u001b[0mparse_args\u001b[0m\u001b[0;34m(\u001b[0m\u001b[0mctx\u001b[0m\u001b[0;34m,\u001b[0m \u001b[0margs\u001b[0m\u001b[0;34m)\u001b[0m\u001b[0;34m\u001b[0m\u001b[0m\n",
      "\u001b[0;31mTypeError\u001b[0m: __init__() got an unexpected keyword argument 'separate_layers'"
     ]
    }
   ],
   "source": [
    "kml_path = data_dir + 'example_01/doc.kml'\n",
    "output_dir = out_dir + 'example_01'\n",
    "kg.convert(kml_path, output_dir, style_type='leaflet', \n",
    "  separate_layers=False)"
   ]
  },
  {
   "cell_type": "code",
   "execution_count": 17,
   "metadata": {
    "collapsed": false,
    "scrolled": true
   },
   "outputs": [
    {
     "data": {
      "text/plain": [
       "('..', 'data', 'example_01', 'doc.kml')"
      ]
     },
     "execution_count": 17,
     "metadata": {},
     "output_type": "execute_result"
    }
   ],
   "source": [
    "kml_path = data_dir + 'example_01/doc.kml'\n",
    "with open(kml_path) as src:\n",
    "    kml_str = src.read()"
   ]
  },
  {
   "cell_type": "code",
   "execution_count": 58,
   "metadata": {
    "collapsed": false
   },
   "outputs": [
    {
     "name": "stdout",
     "output_type": "stream",
     "text": [
      "{'#transBluePoly': {'opacity': 1, 'weight': 1.5, 'fillColor': '#0000ff', 'fillOpacity': 0.49, 'color': '#000000'}, '#transYellowPoly': {'opacity': 1, 'weight': 1.5, 'fillColor': '#ffff00', 'fillOpacity': 0.49, 'color': '#000000'}, '#yellowLineGreenPoly': {'opacity': 0.5, 'weight': 4.0, 'fillColor': '#00ff00', 'fillOpacity': 0.5, 'color': '#ffff00'}, '#thickBlackLine': {'opacity': 0.53, 'weight': 10.0, 'color': '#000000'}, '#blueLineRedPoly': {'opacity': 1.0, 'fillColor': '#ff0000', 'fillOpacity': 1.0, 'color': '#0000ff'}, '#highlightPlacemark': {'iconUrl': 'http://maps.google.com/mapfiles/kml/paddle/red-stars.png'}, '#downArrowIcon': {'iconUrl': 'http://maps.google.com/mapfiles/kml/pal4/icon28.png'}, '#transGreenPoly': {'opacity': 1, 'weight': 1.5, 'fillColor': '#00ff00', 'fillOpacity': 0.49, 'color': '#000000'}, '#noDrivingDirections': {}, '#transRedPoly': {'opacity': 1, 'weight': 1.5, 'fillColor': '#ff0000', 'fillOpacity': 0.49, 'color': '#000000'}, '#transPurpleLineGreenPoly': {'opacity': 0.5, 'weight': 4.0, 'fillColor': '#00ff00', 'fillOpacity': 0.5, 'color': '#ff00ff'}, '#globeIcon': {'iconUrl': 'http://maps.google.com/mapfiles/kml/pal3/icon19.png'}, '#redLineBluePoly': {'opacity': 1.0, 'fillColor': '#0000ff', 'fillOpacity': 1.0, 'color': '#ff0000'}, '#normalPlacemark': {'iconUrl': 'http://maps.google.com/mapfiles/kml/paddle/wht-blank.png'}}\n",
      "---- Placemarks\n",
      "{\"type\": \"FeatureCollection\", \"features\": [{\"type\": \"Feature\", \"properties\": {\"description\": \"Attached to the ground. Intelligently places itself at the\\n          height of the underlying terrain.\", \"name\": \"Simple placemark\"}, \"geometry\": {\"type\": \"Point\", \"coordinates\": [-122.0822035425683, 37.42228990140251, 0.0]}}, {\"type\": \"Feature\", \"properties\": {\"description\": \"Floats a defined distance above the ground.\", \"styleId\": \"#downArrowIcon\", \"name\": \"Floating placemark\"}, \"geometry\": {\"type\": \"Point\", \"coordinates\": [-122.084075, 37.4220033612141, 50.0]}}, {\"type\": \"Feature\", \"properties\": {\"description\": \"Tethered to the ground by a customizable\\n          \\\"tail\\\"\", \"styleId\": \"#globeIcon\", \"name\": \"Extruded placemark\"}, \"geometry\": {\"type\": \"Point\", \"coordinates\": [-122.0857667006183, 37.42156927867553, 50.0]}}]}\n"
     ]
    }
   ],
   "source": [
    "root = md.parseString(kml_str)\n",
    "styles = kg.build_leaflet_styles(root)\n",
    "print(styles)\n",
    "layers = kg.build_geojson_layers(root)\n",
    "for layer in layers[:1]:\n",
    "    print('----', layer['name'])\n",
    "    print(json.dumps(layer['geojson']))\n"
   ]
  },
  {
   "cell_type": "code",
   "execution_count": null,
   "metadata": {
    "collapsed": true
   },
   "outputs": [],
   "source": []
  }
 ],
 "metadata": {
  "kernelspec": {
   "display_name": "Python 3",
   "language": "python",
   "name": "python3"
  },
  "language_info": {
   "codemirror_mode": {
    "name": "ipython",
    "version": 3
   },
   "file_extension": ".py",
   "mimetype": "text/x-python",
   "name": "python",
   "nbconvert_exporter": "python",
   "pygments_lexer": "ipython3",
   "version": "3.4.2"
  }
 },
 "nbformat": 4,
 "nbformat_minor": 0
}
