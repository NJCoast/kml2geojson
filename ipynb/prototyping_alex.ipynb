{
 "cells": [
  {
   "cell_type": "code",
   "execution_count": 67,
   "metadata": {
    "collapsed": false,
    "scrolled": false
   },
   "outputs": [
    {
     "name": "stdout",
     "output_type": "stream",
     "text": [
      "The autoreload extension is already loaded. To reload it, use:\n",
      "  %reload_ext autoreload\n"
     ]
    }
   ],
   "source": [
    "import json\n",
    "import sys\n",
    "import subprocess\n",
    "from copy import deepcopy\n",
    "import pathlib\n",
    "import xml.dom.minidom as md\n",
    "import re\n",
    "\n",
    "data_dir = '../tests/data/'\n",
    "out_dir = '../outputs/'\n",
    "\n",
    "sys.path.append('../')\n",
    "from kml2geojson import kml2geojson as kg\n",
    "\n",
    "%load_ext autoreload\n",
    "%autoreload 2"
   ]
  },
  {
   "cell_type": "code",
   "execution_count": 81,
   "metadata": {
    "collapsed": false
   },
   "outputs": [
    {
     "data": {
      "text/plain": [
       "'<?xml version=\"1.0\" ?><html>\\n\\n<body>\\n\\n<table>\\n\\n<tr>\\n\\n<td>\\n\\n<table>\\n\\n<tr>\\n\\n<td>-0.008465</td>\\n\\n<td>percentage_change_average_fare0</td>\\n\\n</tr>\\n\\n<tr>\\n\\n<td>-0.014772</td>\\n\\n<td>net_change_average_fare0</td>\\n\\n</tr>\\n\\n<tr>\\n\\n<td>0</td>\\n\\n<td>percentage_change_demand0</td>\\n\\n</tr>\\n\\n<tr>\\n\\n<td>0</td>\\n\\n<td>net_change_demand0</td>\\n\\n</tr>\\n\\n<tr>\\n\\n<td>-0.008472</td>\\n\\n<td>percentage_change_average_fare0_175</td>\\n\\n</tr>\\n\\n<tr>\\n\\n<td>-0.014784</td>\\n\\n<td>net_change_average_fare0_175</td>\\n\\n</tr>\\n\\n<tr>\\n\\n<td>0.001412</td>\\n\\n<td>percentage_change_demand0_175</td>\\n\\n</tr>\\n\\n<tr>\\n\\n<td>129.741741</td>\\n\\n<td>net_change_demand0_175</td>\\n\\n</tr>\\n\\n<tr>\\n\\n<td>-0.008479</td>\\n\\n<td>percentage_change_average_fare0_35</td>\\n\\n</tr>\\n\\n<tr>\\n\\n<td>-0.014796</td>\\n\\n<td>net_change_average_fare0_35</td>\\n\\n</tr>\\n\\n<tr>\\n\\n<td>0.002861</td>\\n\\n<td>percentage_change_demand0_35</td>\\n\\n</tr>\\n\\n<tr>\\n\\n<td>262.842475</td>\\n\\n<td>net_change_demand0_35</td>\\n\\n</tr>\\n\\n<tr>\\n\\n<td>2.120175</td>\\n\\n<td>average_fare_predictdiff14_percent</td>\\n\\n</tr>\\n\\n<tr>\\n\\n<td>14.580232</td>\\n\\n<td>demand_predictdiff14_percent</td>\\n\\n</tr>\\n\\n<tr>\\n\\n<td>17.009533</td>\\n\\n<td>revenue_predictdiff14_percent</td>\\n\\n</tr>\\n\\n<tr>\\n\\n<td>0.038729</td>\\n\\n<td>average_fare_predictdiff14_net</td>\\n\\n</tr>\\n\\n<tr>\\n\\n<td>3.602529</td>\\n\\n<td>average_fare_basediff1413_percent</td>\\n\\n</tr>\\n\\n<tr>\\n\\n<td>-15.205804</td>\\n\\n<td>demand_basediff1413_percent</td>\\n\\n</tr>\\n\\n<tr>\\n\\n<td>-12.151068</td>\\n\\n<td>revenue_basediff1413_percent</td>\\n\\n</tr>\\n\\n<tr>\\n\\n<td>0.063518</td>\\n\\n<td>average_fare_basediff1413_net</td>\\n\\n</tr>\\n\\n<tr>\\n\\n<td>1.86541</td>\\n\\n<td>predicted_average_fare2014</td>\\n\\n</tr>\\n\\n<tr>\\n\\n<td>1.826681</td>\\n\\n<td>average_fare2014</td>\\n\\n</tr>\\n\\n<tr>\\n\\n<td>1.763162</td>\\n\\n<td>average_fare2013</td>\\n\\n</tr>\\n\\n<tr>\\n\\n<td>320.095093</td>\\n\\n<td>demand_predictdiff14</td>\\n\\n</tr>\\n\\n<tr>\\n\\n<td>682.133939</td>\\n\\n<td>revenue_predictdiff14</td>\\n\\n</tr>\\n\\n<tr>\\n\\n<td>-393.693112</td>\\n\\n<td>demand_basediff1413</td>\\n\\n</tr>\\n\\n<tr>\\n\\n<td>-554.69624</td>\\n\\n<td>revenue_basediff1413</td>\\n\\n</tr>\\n\\n<tr>\\n\\n<td>2515.499697</td>\\n\\n<td>predicted_total_demand2014</td>\\n\\n</tr>\\n\\n<tr>\\n\\n<td>4692.43761</td>\\n\\n<td>predicted_total_revenue2014</td>\\n\\n</tr>\\n\\n<tr>\\n\\n<td>2195.404603</td>\\n\\n<td>actual_total_demand2014</td>\\n\\n</tr>\\n\\n<tr>\\n\\n<td>4010.303671</td>\\n\\n<td>actual_total_revenue2014</td>\\n\\n</tr>\\n\\n<tr>\\n\\n<td>2589.097715</td>\\n\\n<td>total_demand2013</td>\\n\\n</tr>\\n\\n<tr>\\n\\n<td>4564.999911</td>\\n\\n<td>total_revenue2013</td>\\n\\n</tr>\\n\\n<tr>\\n\\n<td>161010.701877</td>\\n\\n<td>ALBERS_SQM</td>\\n\\n</tr>\\n\\n<tr>\\n\\n<td>Queensland</td>\\n\\n<td>STE_NAME11</td>\\n\\n</tr>\\n\\n<tr>\\n\\n<td>3</td>\\n\\n<td>STE_CODE11</td>\\n\\n</tr>\\n\\n<tr>\\n\\n<td>Greater Brisbane</td>\\n\\n<td>GCC_NAME11</td>\\n\\n</tr>\\n\\n<tr>\\n\\n<td>3GBRI</td>\\n\\n<td>GCC_CODE11</td>\\n\\n</tr>\\n\\n<tr>\\n\\n<td>Brisbane - South</td>\\n\\n<td>SA4_NAME11</td>\\n\\n</tr>\\n\\n<tr>\\n\\n<td>303</td>\\n\\n<td>SA4_CODE11</td>\\n\\n</tr>\\n\\n<tr>\\n\\n<td>Holland Park - Yeronga</td>\\n\\n<td>SA3_NAME11</td>\\n\\n</tr>\\n\\n<tr>\\n\\n<td>30302</td>\\n\\n<td>SA3_CODE11</td>\\n\\n</tr>\\n\\n<tr>\\n\\n<td>Coorparoo</td>\\n\\n<td>SA2_NAME11</td>\\n\\n</tr>\\n\\n<tr>\\n\\n<td>31053</td>\\n\\n<td>SA2_5DIG11</td>\\n\\n</tr>\\n\\n<tr>\\n\\n<td>303021053</td>\\n\\n<td>SA2_MAIN11</td>\\n\\n</tr>\\n\\n<tr>\\n\\n<td>3105312</td>\\n\\n<td>SA1_7DIG11</td>\\n\\n</tr>\\n\\n<tr>\\n\\n<td>30302105312</td>\\n\\n<td>SA1_MAIN11</td>\\n\\n</tr>\\n\\n</table>\\n\\n</td>\\n\\n</tr>\\n\\n<tr>\\n\\n<td>Coorparoo</td>\\n\\n</tr>\\n\\n</table>\\n\\n</body>\\n\\n<head>\\n\\n\\n\\n\\n\\n</head>\\n\\n</html>'"
      ]
     },
     "execution_count": 81,
     "metadata": {},
     "output_type": "execute_result"
    }
   ],
   "source": [
    "kml_path = data_dir + 'description.kml'\n",
    "with open(kml_path) as src:\n",
    "    root = md.parseString(src.read())\n",
    "    \n",
    "desc = kg.get1(root, 'description')\n",
    "\n",
    "def test(node):\n",
    "    text = kg.val(node)\n",
    "    text = re.sub(r'<META .*>', '', text, flags=re.I)\n",
    "    x = md.parseString(text)\n",
    "    return kg.del_attrs(x)\n",
    "\n",
    "def clean_description(node):\n",
    "    text = kg.val(node)\n",
    "    text = re.sub(r'<META .*>', '', text, flags=re.I)\n",
    "    try:\n",
    "        x = md.parseString(text)\n",
    "        x = kg.del_attrs(x)\n",
    "    except Exception:\n",
    "        x = node\n",
    "    return x\n",
    "\n",
    "desc = clean_description(desc)\n",
    "desc.toxml()\n",
    "# feature = kg.build_feature_collection(root)\n",
    "# feature"
   ]
  },
  {
   "cell_type": "code",
   "execution_count": null,
   "metadata": {
    "collapsed": true
   },
   "outputs": [],
   "source": []
  },
  {
   "cell_type": "code",
   "execution_count": null,
   "metadata": {
    "collapsed": true
   },
   "outputs": [],
   "source": []
  }
 ],
 "metadata": {
  "kernelspec": {
   "display_name": "Python 3",
   "language": "python",
   "name": "python3"
  },
  "language_info": {
   "codemirror_mode": {
    "name": "ipython",
    "version": 3
   },
   "file_extension": ".py",
   "mimetype": "text/x-python",
   "name": "python",
   "nbconvert_exporter": "python",
   "pygments_lexer": "ipython3",
   "version": "3.4.3"
  }
 },
 "nbformat": 4,
 "nbformat_minor": 0
}
