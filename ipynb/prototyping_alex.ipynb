{
 "cells": [
  {
   "cell_type": "code",
   "execution_count": 3,
   "metadata": {
    "collapsed": false
   },
   "outputs": [
    {
     "name": "stdout",
     "output_type": "stream",
     "text": [
      "The autoreload extension is already loaded. To reload it, use:\n",
      "  %reload_ext autoreload\n"
     ]
    }
   ],
   "source": [
    "import json\n",
    "import sys\n",
    "import subprocess\n",
    "from copy import deepcopy\n",
    "\n",
    "import xmltodict\n",
    "\n",
    "data_dir = '../data/'\n",
    "out_dir = '../outputs/'\n",
    "\n",
    "sys.path.append('../')\n",
    "import kml2geojson as kg\n",
    "\n",
    "%load_ext autoreload\n",
    "%autoreload 2"
   ]
  },
  {
   "cell_type": "code",
   "execution_count": 58,
   "metadata": {
    "collapsed": false
   },
   "outputs": [
    {
     "name": "stdout",
     "output_type": "stream",
     "text": [
      "Fail\n"
     ]
    }
   ],
   "source": [
    "try:\n",
    "    kg.build_geojson('hello')\n",
    "except subprocess.CalledProcessError:\n",
    "    print('Fail')"
   ]
  },
  {
   "cell_type": "code",
   "execution_count": 56,
   "metadata": {
    "collapsed": false
   },
   "outputs": [
    {
     "data": {
      "text/plain": [
       "('#221100', 0.93)"
      ]
     },
     "execution_count": 56,
     "metadata": {},
     "output_type": "execute_result"
    }
   ],
   "source": [
    "kg.build_rgb_and_opacity('ee001122')"
   ]
  },
  {
   "cell_type": "code",
   "execution_count": 48,
   "metadata": {
    "collapsed": false,
    "scrolled": true
   },
   "outputs": [
    {
     "name": "stdout",
     "output_type": "stream",
     "text": [
      "Non-Official Taxi ranks\n",
      "Official Taxi Ranks\n",
      "Taxi Ranks from AT website\n"
     ]
    }
   ],
   "source": [
    "kml_path = data_dir + 'example_03/doc.kml'\n",
    "output_dir = out_dir + 'example_03/'\n",
    "kg.kml2geojson(kml_path, output_dir)"
   ]
  },
  {
   "cell_type": "code",
   "execution_count": 44,
   "metadata": {
    "collapsed": false
   },
   "outputs": [
    {
     "data": {
      "text/plain": [
       "{'features': [{'geometry': {'coordinates': [[-112.0814237830345,\n",
       "      36.10677870477137,\n",
       "      0],\n",
       "     [-112.0870267752693, 36.0905099328766, 0]],\n",
       "    'type': 'LineString'},\n",
       "   'properties': {'description': 'If the <tessellate> tag has a value of 1, the line will contour to the underlying terrain',\n",
       "    'name': 'Tessellated'},\n",
       "   'type': 'Feature'},\n",
       "  {'geometry': {'coordinates': [[-112.080622229595, 36.10673460007995, 0],\n",
       "     [-112.085242575315, 36.09049598612422, 0]],\n",
       "    'type': 'LineString'},\n",
       "   'properties': {'description': 'If the <tessellate> tag has a value of 0, the line follow a simple straight-line path from point to point',\n",
       "    'name': 'Untessellated'},\n",
       "   'type': 'Feature'},\n",
       "  {'geometry': {'coordinates': [[-112.265654928602, 36.09447672602546, 2357],\n",
       "     [-112.2660384528238, 36.09342608838671, 2357],\n",
       "     [-112.2668139013453, 36.09251058776881, 2357],\n",
       "     [-112.2677826834445, 36.09189827357996, 2357],\n",
       "     [-112.2688557510952, 36.0913137941187, 2357],\n",
       "     [-112.2694810717219, 36.0903677207521, 2357],\n",
       "     [-112.2695268555611, 36.08932171487285, 2357],\n",
       "     [-112.2690144567276, 36.08850916060472, 2357],\n",
       "     [-112.2681528815339, 36.08753813597956, 2357],\n",
       "     [-112.2670588176031, 36.08682685262568, 2357],\n",
       "     [-112.2657374587321, 36.08646312301303, 2357]],\n",
       "    'type': 'LineString'},\n",
       "   'properties': {'description': 'Transparent purple line',\n",
       "    'name': 'Absolute',\n",
       "    'styleHash': '252dbddf',\n",
       "    'styleUrl': '#transPurpleLineGreenPoly'},\n",
       "   'type': 'Feature'},\n",
       "  {'geometry': {'coordinates': [[-112.2550785337791, 36.07954952145647, 2357],\n",
       "     [-112.2549277039738, 36.08117083492122, 2357],\n",
       "     [-112.2552505069063, 36.08260761307279, 2357],\n",
       "     [-112.2564540158376, 36.08395660588506, 2357],\n",
       "     [-112.2580238976449, 36.08511401044813, 2357],\n",
       "     [-112.2595218489022, 36.08584355239394, 2357],\n",
       "     [-112.2608216347552, 36.08612634548589, 2357],\n",
       "     [-112.262073428656, 36.08626019085147, 2357],\n",
       "     [-112.2633204928495, 36.08621519860091, 2357],\n",
       "     [-112.2644963846444, 36.08627897945274, 2357],\n",
       "     [-112.2656969554589, 36.08649599090644, 2357]],\n",
       "    'type': 'LineString'},\n",
       "   'properties': {'description': 'Transparent green wall with yellow outlines',\n",
       "    'name': 'Absolute Extruded',\n",
       "    'styleHash': '-778cf907',\n",
       "    'styleUrl': '#yellowLineGreenPoly'},\n",
       "   'type': 'Feature'},\n",
       "  {'geometry': {'coordinates': [[-112.2532845153347, 36.09886943729116, 645],\n",
       "     [-112.2540466121145, 36.09919570465255, 645],\n",
       "     [-112.254734666947, 36.09984998366178, 645],\n",
       "     [-112.255493345654, 36.10051310621746, 645],\n",
       "     [-112.2563157098468, 36.10108441943419, 645],\n",
       "     [-112.2568033076439, 36.10159722088088, 645],\n",
       "     [-112.257494011321, 36.10204323542867, 645],\n",
       "     [-112.2584106072308, 36.10229131995655, 645],\n",
       "     [-112.2596588987972, 36.10240001286358, 645],\n",
       "     [-112.2610581199487, 36.10213176873407, 645],\n",
       "     [-112.2626285262793, 36.10157011437219, 645]],\n",
       "    'type': 'LineString'},\n",
       "   'properties': {'description': 'Black line (10 pixels wide), height tracks terrain',\n",
       "    'name': 'Relative',\n",
       "    'styleHash': 'd8104ce',\n",
       "    'styleUrl': '#thickBlackLine'},\n",
       "   'type': 'Feature'},\n",
       "  {'geometry': {'coordinates': [[-112.2656634181359, 36.09445214722695, 630],\n",
       "     [-112.2652238941097, 36.09520916122063, 630],\n",
       "     [-112.2645079986395, 36.09580763864907, 630],\n",
       "     [-112.2638827428817, 36.09628572284063, 630],\n",
       "     [-112.2635746835406, 36.09679275951239, 630],\n",
       "     [-112.2635711822407, 36.09740038871899, 630],\n",
       "     [-112.2640296531825, 36.09804913435539, 630],\n",
       "     [-112.264327720538, 36.09880337400301, 630],\n",
       "     [-112.2642436562271, 36.09963644790288, 630],\n",
       "     [-112.2639148687042, 36.10055381117246, 630],\n",
       "     [-112.2626894973474, 36.10149062823369, 630]],\n",
       "    'type': 'LineString'},\n",
       "   'properties': {'description': 'Opaque blue walls with red outline, height tracks terrain',\n",
       "    'name': 'Relative Extruded',\n",
       "    'styleHash': '-4c28884c',\n",
       "    'styleUrl': '#redLineBluePoly'},\n",
       "   'type': 'Feature'}],\n",
       " 'type': 'FeatureCollection'}"
      ]
     },
     "execution_count": 44,
     "metadata": {},
     "output_type": "execute_result"
    }
   ],
   "source": [
    "with open(data_dir + 'example_01/doc.kml', 'r') as src:\n",
    "    kml_str = src.read()\n",
    "\n",
    "x = xmltodict.parse(kml_str)\n",
    "y = deepcopy(x)\n",
    "folders = x['kml']['Document']['Folder']\n",
    "style = x['kml']['Document']['Style']\n",
    "folders = [style, folders[4]]\n",
    "y['kml']['Document']['Folder'] = folders\n",
    "y = xmltodict.unparse(y)\n",
    "y\n",
    "g = kg.build_geojson(y)\n",
    "g"
   ]
  },
  {
   "cell_type": "code",
   "execution_count": 11,
   "metadata": {
    "collapsed": false,
    "scrolled": true
   },
   "outputs": [],
   "source": [
    "f = x['kml']['Document']['Folder'][0]\n",
    "\n",
    "# for folder in x['kml']['Document']['Folder']:\n",
    "#     y = deepcopy(x)\n",
    "#     y['kml']['Document']['Folder'] = [folder]\n",
    "#     kml_str = xmltodict.unparse(y)\n",
    "#     kml_path = '/tmp/tmp.kml'\n",
    "#     with open(kml_path, 'w') as tgt:\n",
    "#         tgt.write(kml_str)\n",
    "    \n",
    "\n",
    "# features = folders[1]['Placemark']\n",
    "# features\n",
    "# ids = [f['@id'] for f in features]\n",
    "# ids"
   ]
  },
  {
   "cell_type": "code",
   "execution_count": 6,
   "metadata": {
    "collapsed": false
   },
   "outputs": [],
   "source": [
    "kml_path = data_dir + 'example_02/doc.kml'\n",
    "geojson_path = out_dir + 'doc_02.geojson'\n",
    "json_path = out_dir + 'doc_02.json'\n",
    "\n",
    "kg.kml2geojson(kml_path, geojson_path, json_path)"
   ]
  },
  {
   "cell_type": "code",
   "execution_count": null,
   "metadata": {
    "collapsed": true
   },
   "outputs": [],
   "source": []
  }
 ],
 "metadata": {
  "kernelspec": {
   "display_name": "Python 3",
   "language": "python",
   "name": "python3"
  },
  "language_info": {
   "codemirror_mode": {
    "name": "ipython",
    "version": 3
   },
   "file_extension": ".py",
   "mimetype": "text/x-python",
   "name": "python",
   "nbconvert_exporter": "python",
   "pygments_lexer": "ipython3",
   "version": "3.4.3"
  }
 },
 "nbformat": 4,
 "nbformat_minor": 0
}
