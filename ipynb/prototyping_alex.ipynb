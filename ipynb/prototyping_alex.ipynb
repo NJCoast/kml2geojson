{
 "cells": [
  {
   "cell_type": "code",
   "execution_count": 19,
   "metadata": {
    "collapsed": false
   },
   "outputs": [
    {
     "name": "stdout",
     "output_type": "stream",
     "text": [
      "The autoreload extension is already loaded. To reload it, use:\n",
      "  %reload_ext autoreload\n"
     ]
    }
   ],
   "source": [
    "import json\n",
    "import sys\n",
    "import subprocess\n",
    "from copy import deepcopy\n",
    "import pathlib\n",
    "import xml.dom.minidom as md\n",
    "\n",
    "data_dir = '../data/'\n",
    "out_dir = '../outputs/'\n",
    "\n",
    "sys.path.append('../')\n",
    "import kml2geojson.kml2geojson as kg\n",
    "\n",
    "%load_ext autoreload\n",
    "%autoreload 2"
   ]
  },
  {
   "cell_type": "code",
   "execution_count": 21,
   "metadata": {
    "collapsed": false
   },
   "outputs": [],
   "source": [
    "kml_path = data_dir + 'example_01/doc.kml'\n",
    "output_dir = out_dir + 'example_01'\n",
    "kg.convert(kml_path, output_dir, style_type='leaflet', \n",
    "  separate_layers=False)"
   ]
  },
  {
   "cell_type": "code",
   "execution_count": 17,
   "metadata": {
    "collapsed": false,
    "scrolled": true
   },
   "outputs": [
    {
     "data": {
      "text/plain": [
       "('..', 'data', 'example_01', 'doc.kml')"
      ]
     },
     "execution_count": 17,
     "metadata": {},
     "output_type": "execute_result"
    }
   ],
   "source": [
    "kml_path = data_dir + 'example_01/doc.kml'\n",
    "with open(kml_path) as src:\n",
    "    kml_str = src.read()"
   ]
  },
  {
   "cell_type": "code",
   "execution_count": 58,
   "metadata": {
    "collapsed": false
   },
   "outputs": [
    {
     "name": "stdout",
     "output_type": "stream",
     "text": [
      "{'#transBluePoly': {'opacity': 1, 'weight': 1.5, 'fillColor': '#0000ff', 'fillOpacity': 0.49, 'color': '#000000'}, '#transYellowPoly': {'opacity': 1, 'weight': 1.5, 'fillColor': '#ffff00', 'fillOpacity': 0.49, 'color': '#000000'}, '#yellowLineGreenPoly': {'opacity': 0.5, 'weight': 4.0, 'fillColor': '#00ff00', 'fillOpacity': 0.5, 'color': '#ffff00'}, '#thickBlackLine': {'opacity': 0.53, 'weight': 10.0, 'color': '#000000'}, '#blueLineRedPoly': {'opacity': 1.0, 'fillColor': '#ff0000', 'fillOpacity': 1.0, 'color': '#0000ff'}, '#highlightPlacemark': {'iconUrl': 'http://maps.google.com/mapfiles/kml/paddle/red-stars.png'}, '#downArrowIcon': {'iconUrl': 'http://maps.google.com/mapfiles/kml/pal4/icon28.png'}, '#transGreenPoly': {'opacity': 1, 'weight': 1.5, 'fillColor': '#00ff00', 'fillOpacity': 0.49, 'color': '#000000'}, '#noDrivingDirections': {}, '#transRedPoly': {'opacity': 1, 'weight': 1.5, 'fillColor': '#ff0000', 'fillOpacity': 0.49, 'color': '#000000'}, '#transPurpleLineGreenPoly': {'opacity': 0.5, 'weight': 4.0, 'fillColor': '#00ff00', 'fillOpacity': 0.5, 'color': '#ff00ff'}, '#globeIcon': {'iconUrl': 'http://maps.google.com/mapfiles/kml/pal3/icon19.png'}, '#redLineBluePoly': {'opacity': 1.0, 'fillColor': '#0000ff', 'fillOpacity': 1.0, 'color': '#ff0000'}, '#normalPlacemark': {'iconUrl': 'http://maps.google.com/mapfiles/kml/paddle/wht-blank.png'}}\n",
      "---- Placemarks\n",
      "{\"type\": \"FeatureCollection\", \"features\": [{\"type\": \"Feature\", \"properties\": {\"description\": \"Attached to the ground. Intelligently places itself at the\\n          height of the underlying terrain.\", \"name\": \"Simple placemark\"}, \"geometry\": {\"type\": \"Point\", \"coordinates\": [-122.0822035425683, 37.42228990140251, 0.0]}}, {\"type\": \"Feature\", \"properties\": {\"description\": \"Floats a defined distance above the ground.\", \"styleId\": \"#downArrowIcon\", \"name\": \"Floating placemark\"}, \"geometry\": {\"type\": \"Point\", \"coordinates\": [-122.084075, 37.4220033612141, 50.0]}}, {\"type\": \"Feature\", \"properties\": {\"description\": \"Tethered to the ground by a customizable\\n          \\\"tail\\\"\", \"styleId\": \"#globeIcon\", \"name\": \"Extruded placemark\"}, \"geometry\": {\"type\": \"Point\", \"coordinates\": [-122.0857667006183, 37.42156927867553, 50.0]}}]}\n"
     ]
    }
   ],
   "source": [
    "root = md.parseString(kml_str)\n",
    "styles = kg.build_leaflet_styles(root)\n",
    "print(styles)\n",
    "layers = kg.build_geojson_layers(root)\n",
    "for layer in layers[:1]:\n",
    "    print('----', layer['name'])\n",
    "    print(json.dumps(layer['geojson']))\n"
   ]
  },
  {
   "cell_type": "code",
   "execution_count": null,
   "metadata": {
    "collapsed": true
   },
   "outputs": [],
   "source": []
  }
 ],
 "metadata": {
  "kernelspec": {
   "display_name": "Python 3",
   "language": "python",
   "name": "python3"
  },
  "language_info": {
   "codemirror_mode": {
    "name": "ipython",
    "version": 3
   },
   "file_extension": ".py",
   "mimetype": "text/x-python",
   "name": "python",
   "nbconvert_exporter": "python",
   "pygments_lexer": "ipython3",
   "version": "3.4.2"
  }
 },
 "nbformat": 4,
 "nbformat_minor": 0
}
